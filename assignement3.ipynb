{
 "cells": [
  {
   "cell_type": "markdown",
   "id": "f6044570-5e62-4a13-a8bf-591945941131",
   "metadata": {},
   "source": [
    "# __Assignement 3__"
   ]
  },
  {
   "cell_type": "markdown",
   "id": "f83a96c2-98eb-4edc-8b6b-83609b3e8561",
   "metadata": {},
   "source": [
    "## __16/02/2025__"
   ]
  },
  {
   "cell_type": "markdown",
   "id": "84b53b06-4731-4da2-84d0-76e93088ed43",
   "metadata": {},
   "source": [
    "### __Said Chakir__"
   ]
  },
  {
   "cell_type": "markdown",
   "id": "010aaa91-30b5-42da-89de-21da7a9d2b48",
   "metadata": {},
   "source": [
    "#### <span style=\"color:red;\">Task 1</span>"
   ]
  },
  {
   "cell_type": "code",
   "execution_count": 25,
   "id": "f3705f18-50a8-4cd6-a26d-bfbe9d6210d4",
   "metadata": {},
   "outputs": [
    {
     "name": "stdout",
     "output_type": "stream",
     "text": [
      "30\n"
     ]
    }
   ],
   "source": [
    "product = lambda x, y: x * y\n",
    "\n",
    "print(product(5, 6))"
   ]
  },
  {
   "cell_type": "markdown",
   "id": "76324001-b95c-427f-bbec-adb38ca59a80",
   "metadata": {},
   "source": [
    "#### <span style=\"color:red;\">Task 2</span>"
   ]
  },
  {
   "cell_type": "code",
   "execution_count": 27,
   "id": "0398167b-3c09-4fbe-bb15-1784e7f90648",
   "metadata": {},
   "outputs": [
    {
     "name": "stdout",
     "output_type": "stream",
     "text": [
      "314.1592653589793\n"
     ]
    }
   ],
   "source": [
    "import math\n",
    "\n",
    "def circle_area(radius):\n",
    "    return math.pi * radius ** 2\n",
    "    \n",
    "print(circle_area(10))"
   ]
  },
  {
   "cell_type": "markdown",
   "id": "c90b82fd-c977-449b-9687-8bdce5bad2fd",
   "metadata": {},
   "source": [
    "#### <span style=\"color:red;\">Task 3</span>"
   ]
  },
  {
   "cell_type": "code",
   "execution_count": 29,
   "id": "27ff940c-b085-46e4-841f-598d8a455468",
   "metadata": {},
   "outputs": [
    {
     "name": "stdout",
     "output_type": "stream",
     "text": [
      "0.4\n"
     ]
    }
   ],
   "source": [
    "def calculator(a, b, operation):\n",
    "    if operation == 'a':\n",
    "        return a + b\n",
    "    elif operation == 's':\n",
    "        return a - b\n",
    "    elif operation == 'm':\n",
    "        return a * b\n",
    "    elif operation == 'd':\n",
    "        return a / b if b != 0 else \"Error: Division by zero\"\n",
    "    else:\n",
    "        return \"Invalid operation\"\n",
    "\n",
    "print(calculator(2, 5, 'd'))"
   ]
  },
  {
   "cell_type": "markdown",
   "id": "a8551ed0-91d2-47a9-b636-112f943f603d",
   "metadata": {},
   "source": [
    "#### <span style=\"color:red;\">Task 4</span>"
   ]
  },
  {
   "cell_type": "code",
   "execution_count": 31,
   "id": "fae7743c-f5c2-4510-baf2-e7f585e339f0",
   "metadata": {},
   "outputs": [
    {
     "name": "stdout",
     "output_type": "stream",
     "text": [
      "50\n"
     ]
    }
   ],
   "source": [
    "class Rectangle:\n",
    "    def __init__(self, length, width):\n",
    "        self.length = length\n",
    "        self.width = width\n",
    "\n",
    "    def area(self):\n",
    "        return self.length * self.width\n",
    "\n",
    "r = Rectangle(5, 10)\n",
    "print(r.area())\n"
   ]
  },
  {
   "cell_type": "markdown",
   "id": "038cbd0c-b7b1-4d05-a6fd-fa1df87bf849",
   "metadata": {},
   "source": [
    "#### <span style=\"color:red;\">Task 5</span>"
   ]
  },
  {
   "cell_type": "code",
   "execution_count": 33,
   "id": "3c5bf6b5-5bf4-457b-b946-296c7f907eec",
   "metadata": {},
   "outputs": [
    {
     "name": "stdout",
     "output_type": "stream",
     "text": [
      "The area is:\n",
      "25\n",
      "This is a: square\n"
     ]
    }
   ],
   "source": [
    "class Shape:\n",
    "    def __init__(self, name):\n",
    "        self.name = name\n",
    "\n",
    "    def area(self):\n",
    "        return 0\n",
    "\n",
    "class Square(Shape):\n",
    "    def __init__(self, name, length):\n",
    "        super().__init__(name)  \n",
    "        self.length = length\n",
    "\n",
    "    def area(self):\n",
    "        return self.length ** 2 \n",
    "\n",
    "    def describe(self):\n",
    "        return f\"This is a: {self.name}\"\n",
    "\n",
    "s = Square(\"square\", 5)\n",
    "print(\"The area is:\")\n",
    "print(s.area())        \n",
    "print(s.describe())    "
   ]
  }
 ],
 "metadata": {
  "kernelspec": {
   "display_name": "Python [conda env:base] *",
   "language": "python",
   "name": "conda-base-py"
  },
  "language_info": {
   "codemirror_mode": {
    "name": "ipython",
    "version": 3
   },
   "file_extension": ".py",
   "mimetype": "text/x-python",
   "name": "python",
   "nbconvert_exporter": "python",
   "pygments_lexer": "ipython3",
   "version": "3.12.7"
  }
 },
 "nbformat": 4,
 "nbformat_minor": 5
}
